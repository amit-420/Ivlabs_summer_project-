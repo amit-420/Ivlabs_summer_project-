{
  "nbformat": 4,
  "nbformat_minor": 0,
  "metadata": {
    "colab": {
      "name": "Asssignment2_Cruse _control.ipynb",
      "provenance": [],
      "authorship_tag": "ABX9TyP+b8WLvGTXgIoNzkgBs+Wz",
      "include_colab_link": true
    },
    "kernelspec": {
      "name": "python3",
      "display_name": "Python 3"
    }
  },
  "cells": [
    {
      "cell_type": "markdown",
      "metadata": {
        "id": "view-in-github",
        "colab_type": "text"
      },
      "source": [
        "<a href=\"https://colab.research.google.com/github/amit-420/Ivlabs_summer_project-/blob/master/Asssignment2_Cruse__control.ipynb\" target=\"_parent\"><img src=\"https://colab.research.google.com/assets/colab-badge.svg\" alt=\"Open In Colab\"/></a>"
      ]
    },
    {
      "cell_type": "code",
      "metadata": {
        "id": "0SqhSlbTyFJH",
        "colab_type": "code",
        "colab": {
          "base_uri": "https://localhost:8080/",
          "height": 295
        },
        "outputId": "76a3fc73-a065-4bea-8239-37cfa1bf48ce"
      },
      "source": [
        "# %%\n",
        "import numpy as np\n",
        "import scipy as sp\n",
        "from matplotlib import pyplot as plt\n",
        "\n",
        "m = 2000 #total mass of car in kg\n",
        "b = 0.01 #Value of air resistance coefficient\n",
        "mW = 6 # mass of a wheel in kg\n",
        "rW = 0.3 #Radius of wheel in meters\n",
        "Moment_inertia = 0.5*mW*rW**2 # Assuming tire a disk\n",
        "f_coe = 0.01 # rolling friction coefficient\n",
        "Theta =  -np.pi/100  # angle of slope\n",
        "g = 9.8 # m/s^2 gravitational accelaration\n",
        "\n",
        "#Delta_t is 1 second\n",
        "\n",
        "# intial declaration\n",
        "v = 0; Torque = 0; e = 0; int_edt = 0\n",
        "\n",
        "kP = 100\n",
        "kI = 9\n",
        "kD = 9\n",
        "\n",
        "def vf(t):\n",
        "    if t <= 20: \n",
        "        return 1  #m/s final velocity\n",
        "    else:\n",
        "        return 1  #m/s final velocity\n",
        "\n",
        "tf = 50 #total time \n",
        "t = np.array([])\n",
        "varr = np.array([])\n",
        "vfarr = np.array([])\n",
        "\n",
        "def roll_fric(Torque):\n",
        "    frictional_force = m*g*np.cos(Theta)*f_coe                                 \n",
        "    if abs(4*Torque*rW ) <= frictional_force: # Maximum force that can be provided by ground\n",
        "        return ((4*Torque) / Moment_inertia)\n",
        "    else:  \n",
        "        return frictional_force*np.sign(np.sin(Theta))\n",
        "    \n",
        "\n",
        "def acceleration(v,u):\n",
        "    dv_dt = (1/m *(u - (b*v)- (m*g*np.sin(Theta)))) \n",
        "    return dv_dt\n",
        "\n",
        "def diff_e(e_new,e):\n",
        "    dif_e = e_new - e #Delta_t is 1 second \n",
        "    e = e_new\n",
        "    return dif_e\n",
        "\n",
        "for i in range(0,tf,1):\n",
        "    e_new = vf(i) - v\n",
        "    int_edt += e_new\n",
        "    Torque = kP*(e_new) + kI*int_edt + kD*diff_e(e_new,e)      \n",
        "    varr = np.append(varr,v)                                          \n",
        "    v += acceleration(v,roll_fric(Torque)) \n",
        "    t = np.append(t,i)\n",
        "\n",
        "\n",
        "plt.plot(t,varr)\n",
        "\n",
        "for i in range(0,tf):\n",
        "    constant = vf(i)\n",
        "    vfarr = np.append(vfarr,constant)\n",
        "\n",
        "plt.plot(t,vfarr)\n",
        "plt.title(\"Velocity response curve\") \n",
        "plt.xlabel(\"Time\") \n",
        "plt.ylabel(\"Velocity\") \n",
        "plt.show()\n",
        "\n",
        "# %%\n"
      ],
      "execution_count": 1,
      "outputs": [
        {
          "output_type": "display_data",
          "data": {
            "image/png": "[encoded data removed]",
            "text/plain": [
              "<Figure size 432x288 with 1 Axes>"
            ]
          },
          "metadata": {
            "tags": [],
            "needs_background": "light"
          }
        }
      ]
    }
  ]
}